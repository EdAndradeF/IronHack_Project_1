{
 "cells": [
  {
   "cell_type": "markdown",
   "id": "477b1efc",
   "metadata": {
    "ExecuteTime": {
     "end_time": "2022-01-22T11:36:13.128025Z",
     "start_time": "2022-01-22T11:36:13.113069Z"
    }
   },
   "source": [
    "# Shark Attack Cleaner"
   ]
  },
  {
   "cell_type": "code",
   "execution_count": 531,
   "id": "848c6d37",
   "metadata": {
    "ExecuteTime": {
     "end_time": "2022-01-23T01:14:09.819063Z",
     "start_time": "2022-01-23T01:14:09.816070Z"
    }
   },
   "outputs": [],
   "source": [
    "import numpy as py\n",
    "import pandas as pd\n",
    "import re"
   ]
  },
  {
   "cell_type": "code",
   "execution_count": 532,
   "id": "66d4204e",
   "metadata": {
    "ExecuteTime": {
     "end_time": "2022-01-23T01:14:10.175989Z",
     "start_time": "2022-01-23T01:14:10.056794Z"
    }
   },
   "outputs": [],
   "source": [
    "df = pd.read_csv('attacks.csv', sep=',', encoding='ANSI')"
   ]
  },
  {
   "cell_type": "code",
   "execution_count": 533,
   "id": "c40434f7",
   "metadata": {
    "ExecuteTime": {
     "end_time": "2022-01-23T01:14:10.346185Z",
     "start_time": "2022-01-23T01:14:10.332221Z"
    }
   },
   "outputs": [],
   "source": [
    "pd.set_option('display.max_columns', None)"
   ]
  },
  {
   "cell_type": "code",
   "execution_count": 534,
   "id": "3b6cee8c",
   "metadata": {
    "ExecuteTime": {
     "end_time": "2022-01-23T01:14:11.640948Z",
     "start_time": "2022-01-23T01:14:11.605075Z"
    }
   },
   "outputs": [
    {
     "name": "stdout",
     "output_type": "stream",
     "text": [
      "<class 'pandas.core.frame.DataFrame'>\n",
      "RangeIndex: 25723 entries, 0 to 25722\n",
      "Data columns (total 24 columns):\n",
      " #   Column                  Non-Null Count  Dtype  \n",
      "---  ------                  --------------  -----  \n",
      " 0   Case Number             8702 non-null   object \n",
      " 1   Date                    6302 non-null   object \n",
      " 2   Year                    6300 non-null   float64\n",
      " 3   Type                    6298 non-null   object \n",
      " 4   Country                 6252 non-null   object \n",
      " 5   Area                    5847 non-null   object \n",
      " 6   Location                5762 non-null   object \n",
      " 7   Activity                5758 non-null   object \n",
      " 8   Name                    6092 non-null   object \n",
      " 9   Sex                     5737 non-null   object \n",
      " 10  Age                     3471 non-null   object \n",
      " 11  Injury                  6274 non-null   object \n",
      " 12  Fatal (Y/N)             5763 non-null   object \n",
      " 13  Time                    2948 non-null   object \n",
      " 14  Species                 3464 non-null   object \n",
      " 15  Investigator or Source  6285 non-null   object \n",
      " 16  pdf                     6302 non-null   object \n",
      " 17  href formula            6301 non-null   object \n",
      " 18  href                    6302 non-null   object \n",
      " 19  Case Number.1           6302 non-null   object \n",
      " 20  Case Number.2           6302 non-null   object \n",
      " 21  original order          6309 non-null   float64\n",
      " 22  Unnamed: 22             1 non-null      object \n",
      " 23  Unnamed: 23             2 non-null      object \n",
      "dtypes: float64(2), object(22)\n",
      "memory usage: 4.7+ MB\n"
     ]
    },
    {
     "data": {
      "text/html": [
       "<div>\n",
       "<style scoped>\n",
       "    .dataframe tbody tr th:only-of-type {\n",
       "        vertical-align: middle;\n",
       "    }\n",
       "\n",
       "    .dataframe tbody tr th {\n",
       "        vertical-align: top;\n",
       "    }\n",
       "\n",
       "    .dataframe thead th {\n",
       "        text-align: right;\n",
       "    }\n",
       "</style>\n",
       "<table border=\"1\" class=\"dataframe\">\n",
       "  <thead>\n",
       "    <tr style=\"text-align: right;\">\n",
       "      <th></th>\n",
       "      <th>Case Number</th>\n",
       "      <th>Date</th>\n",
       "      <th>Year</th>\n",
       "      <th>Type</th>\n",
       "      <th>Country</th>\n",
       "      <th>Area</th>\n",
       "      <th>Location</th>\n",
       "      <th>Activity</th>\n",
       "      <th>Name</th>\n",
       "      <th>Sex</th>\n",
       "      <th>Age</th>\n",
       "      <th>Injury</th>\n",
       "      <th>Fatal (Y/N)</th>\n",
       "      <th>Time</th>\n",
       "      <th>Species</th>\n",
       "      <th>Investigator or Source</th>\n",
       "      <th>pdf</th>\n",
       "      <th>href formula</th>\n",
       "      <th>href</th>\n",
       "      <th>Case Number.1</th>\n",
       "      <th>Case Number.2</th>\n",
       "      <th>original order</th>\n",
       "      <th>Unnamed: 22</th>\n",
       "      <th>Unnamed: 23</th>\n",
       "    </tr>\n",
       "  </thead>\n",
       "  <tbody>\n",
       "    <tr>\n",
       "      <th>0</th>\n",
       "      <td>2018.06.25</td>\n",
       "      <td>25-Jun-2018</td>\n",
       "      <td>2018.0</td>\n",
       "      <td>Boating</td>\n",
       "      <td>USA</td>\n",
       "      <td>California</td>\n",
       "      <td>Oceanside, San Diego County</td>\n",
       "      <td>Paddling</td>\n",
       "      <td>Julie Wolfe</td>\n",
       "      <td>F</td>\n",
       "      <td>57</td>\n",
       "      <td>No injury to occupant, outrigger canoe and pad...</td>\n",
       "      <td>N</td>\n",
       "      <td>18h00</td>\n",
       "      <td>White shark</td>\n",
       "      <td>R. Collier, GSAF</td>\n",
       "      <td>2018.06.25-Wolfe.pdf</td>\n",
       "      <td>http://sharkattackfile.net/spreadsheets/pdf_di...</td>\n",
       "      <td>http://sharkattackfile.net/spreadsheets/pdf_di...</td>\n",
       "      <td>2018.06.25</td>\n",
       "      <td>2018.06.25</td>\n",
       "      <td>6303.0</td>\n",
       "      <td>NaN</td>\n",
       "      <td>NaN</td>\n",
       "    </tr>\n",
       "    <tr>\n",
       "      <th>1</th>\n",
       "      <td>2018.06.18</td>\n",
       "      <td>18-Jun-2018</td>\n",
       "      <td>2018.0</td>\n",
       "      <td>Unprovoked</td>\n",
       "      <td>USA</td>\n",
       "      <td>Georgia</td>\n",
       "      <td>St. Simon Island, Glynn County</td>\n",
       "      <td>Standing</td>\n",
       "      <td>Adyson McNeely</td>\n",
       "      <td>F</td>\n",
       "      <td>11</td>\n",
       "      <td>Minor injury to left thigh</td>\n",
       "      <td>N</td>\n",
       "      <td>14h00  -15h00</td>\n",
       "      <td>NaN</td>\n",
       "      <td>K.McMurray, TrackingSharks.com</td>\n",
       "      <td>2018.06.18-McNeely.pdf</td>\n",
       "      <td>http://sharkattackfile.net/spreadsheets/pdf_di...</td>\n",
       "      <td>http://sharkattackfile.net/spreadsheets/pdf_di...</td>\n",
       "      <td>2018.06.18</td>\n",
       "      <td>2018.06.18</td>\n",
       "      <td>6302.0</td>\n",
       "      <td>NaN</td>\n",
       "      <td>NaN</td>\n",
       "    </tr>\n",
       "    <tr>\n",
       "      <th>2</th>\n",
       "      <td>2018.06.09</td>\n",
       "      <td>09-Jun-2018</td>\n",
       "      <td>2018.0</td>\n",
       "      <td>Invalid</td>\n",
       "      <td>USA</td>\n",
       "      <td>Hawaii</td>\n",
       "      <td>Habush, Oahu</td>\n",
       "      <td>Surfing</td>\n",
       "      <td>John Denges</td>\n",
       "      <td>M</td>\n",
       "      <td>48</td>\n",
       "      <td>Injury to left lower leg from surfboard skeg</td>\n",
       "      <td>N</td>\n",
       "      <td>07h45</td>\n",
       "      <td>NaN</td>\n",
       "      <td>K.McMurray, TrackingSharks.com</td>\n",
       "      <td>2018.06.09-Denges.pdf</td>\n",
       "      <td>http://sharkattackfile.net/spreadsheets/pdf_di...</td>\n",
       "      <td>http://sharkattackfile.net/spreadsheets/pdf_di...</td>\n",
       "      <td>2018.06.09</td>\n",
       "      <td>2018.06.09</td>\n",
       "      <td>6301.0</td>\n",
       "      <td>NaN</td>\n",
       "      <td>NaN</td>\n",
       "    </tr>\n",
       "    <tr>\n",
       "      <th>3</th>\n",
       "      <td>2018.06.08</td>\n",
       "      <td>08-Jun-2018</td>\n",
       "      <td>2018.0</td>\n",
       "      <td>Unprovoked</td>\n",
       "      <td>AUSTRALIA</td>\n",
       "      <td>New South Wales</td>\n",
       "      <td>Arrawarra Headland</td>\n",
       "      <td>Surfing</td>\n",
       "      <td>male</td>\n",
       "      <td>M</td>\n",
       "      <td>NaN</td>\n",
       "      <td>Minor injury to lower leg</td>\n",
       "      <td>N</td>\n",
       "      <td>NaN</td>\n",
       "      <td>2 m shark</td>\n",
       "      <td>B. Myatt, GSAF</td>\n",
       "      <td>2018.06.08-Arrawarra.pdf</td>\n",
       "      <td>http://sharkattackfile.net/spreadsheets/pdf_di...</td>\n",
       "      <td>http://sharkattackfile.net/spreadsheets/pdf_di...</td>\n",
       "      <td>2018.06.08</td>\n",
       "      <td>2018.06.08</td>\n",
       "      <td>6300.0</td>\n",
       "      <td>NaN</td>\n",
       "      <td>NaN</td>\n",
       "    </tr>\n",
       "    <tr>\n",
       "      <th>4</th>\n",
       "      <td>2018.06.04</td>\n",
       "      <td>04-Jun-2018</td>\n",
       "      <td>2018.0</td>\n",
       "      <td>Provoked</td>\n",
       "      <td>MEXICO</td>\n",
       "      <td>Colima</td>\n",
       "      <td>La Ticla</td>\n",
       "      <td>Free diving</td>\n",
       "      <td>Gustavo Ramos</td>\n",
       "      <td>M</td>\n",
       "      <td>NaN</td>\n",
       "      <td>Lacerations to leg &amp; hand shark PROVOKED INCIDENT</td>\n",
       "      <td>N</td>\n",
       "      <td>NaN</td>\n",
       "      <td>Tiger shark, 3m</td>\n",
       "      <td>A .Kipper</td>\n",
       "      <td>2018.06.04-Ramos.pdf</td>\n",
       "      <td>http://sharkattackfile.net/spreadsheets/pdf_di...</td>\n",
       "      <td>http://sharkattackfile.net/spreadsheets/pdf_di...</td>\n",
       "      <td>2018.06.04</td>\n",
       "      <td>2018.06.04</td>\n",
       "      <td>6299.0</td>\n",
       "      <td>NaN</td>\n",
       "      <td>NaN</td>\n",
       "    </tr>\n",
       "  </tbody>\n",
       "</table>\n",
       "</div>"
      ],
      "text/plain": [
       "  Case Number         Date    Year        Type    Country             Area  \\\n",
       "0  2018.06.25  25-Jun-2018  2018.0     Boating        USA       California   \n",
       "1  2018.06.18  18-Jun-2018  2018.0  Unprovoked        USA          Georgia   \n",
       "2  2018.06.09  09-Jun-2018  2018.0     Invalid        USA           Hawaii   \n",
       "3  2018.06.08  08-Jun-2018  2018.0  Unprovoked  AUSTRALIA  New South Wales   \n",
       "4  2018.06.04  04-Jun-2018  2018.0    Provoked     MEXICO           Colima   \n",
       "\n",
       "                         Location     Activity             Name Sex   Age  \\\n",
       "0     Oceanside, San Diego County     Paddling      Julie Wolfe    F   57   \n",
       "1  St. Simon Island, Glynn County     Standing  Adyson McNeely     F   11   \n",
       "2                    Habush, Oahu      Surfing      John Denges    M   48   \n",
       "3              Arrawarra Headland      Surfing             male    M  NaN   \n",
       "4                        La Ticla  Free diving   Gustavo Ramos     M  NaN   \n",
       "\n",
       "                                              Injury Fatal (Y/N)  \\\n",
       "0  No injury to occupant, outrigger canoe and pad...           N   \n",
       "1                         Minor injury to left thigh           N   \n",
       "2       Injury to left lower leg from surfboard skeg           N   \n",
       "3                          Minor injury to lower leg           N   \n",
       "4  Lacerations to leg & hand shark PROVOKED INCIDENT           N   \n",
       "\n",
       "            Time         Species           Investigator or Source  \\\n",
       "0          18h00      White shark                R. Collier, GSAF   \n",
       "1  14h00  -15h00              NaN  K.McMurray, TrackingSharks.com   \n",
       "2          07h45              NaN  K.McMurray, TrackingSharks.com   \n",
       "3            NaN        2 m shark                  B. Myatt, GSAF   \n",
       "4            NaN  Tiger shark, 3m                       A .Kipper   \n",
       "\n",
       "                        pdf  \\\n",
       "0      2018.06.25-Wolfe.pdf   \n",
       "1    2018.06.18-McNeely.pdf   \n",
       "2     2018.06.09-Denges.pdf   \n",
       "3  2018.06.08-Arrawarra.pdf   \n",
       "4      2018.06.04-Ramos.pdf   \n",
       "\n",
       "                                        href formula  \\\n",
       "0  http://sharkattackfile.net/spreadsheets/pdf_di...   \n",
       "1  http://sharkattackfile.net/spreadsheets/pdf_di...   \n",
       "2  http://sharkattackfile.net/spreadsheets/pdf_di...   \n",
       "3  http://sharkattackfile.net/spreadsheets/pdf_di...   \n",
       "4  http://sharkattackfile.net/spreadsheets/pdf_di...   \n",
       "\n",
       "                                                href Case Number.1  \\\n",
       "0  http://sharkattackfile.net/spreadsheets/pdf_di...    2018.06.25   \n",
       "1  http://sharkattackfile.net/spreadsheets/pdf_di...    2018.06.18   \n",
       "2  http://sharkattackfile.net/spreadsheets/pdf_di...    2018.06.09   \n",
       "3  http://sharkattackfile.net/spreadsheets/pdf_di...    2018.06.08   \n",
       "4  http://sharkattackfile.net/spreadsheets/pdf_di...    2018.06.04   \n",
       "\n",
       "  Case Number.2  original order Unnamed: 22 Unnamed: 23  \n",
       "0    2018.06.25          6303.0         NaN         NaN  \n",
       "1    2018.06.18          6302.0         NaN         NaN  \n",
       "2    2018.06.09          6301.0         NaN         NaN  \n",
       "3    2018.06.08          6300.0         NaN         NaN  \n",
       "4    2018.06.04          6299.0         NaN         NaN  "
      ]
     },
     "execution_count": 534,
     "metadata": {},
     "output_type": "execute_result"
    }
   ],
   "source": [
    "df.info()\n",
    "df.head()"
   ]
  },
  {
   "cell_type": "markdown",
   "id": "a63145af",
   "metadata": {},
   "source": [
    "#### Limpando colunas inuteis (nulas e com dados repetidos de outras colunas)"
   ]
  },
  {
   "cell_type": "code",
   "execution_count": 544,
   "id": "a2e449a3",
   "metadata": {
    "ExecuteTime": {
     "end_time": "2022-01-23T01:17:30.799173Z",
     "start_time": "2022-01-23T01:17:30.780224Z"
    }
   },
   "outputs": [
    {
     "data": {
      "text/html": [
       "<div>\n",
       "<style scoped>\n",
       "    .dataframe tbody tr th:only-of-type {\n",
       "        vertical-align: middle;\n",
       "    }\n",
       "\n",
       "    .dataframe tbody tr th {\n",
       "        vertical-align: top;\n",
       "    }\n",
       "\n",
       "    .dataframe thead th {\n",
       "        text-align: right;\n",
       "    }\n",
       "</style>\n",
       "<table border=\"1\" class=\"dataframe\">\n",
       "  <thead>\n",
       "    <tr style=\"text-align: right;\">\n",
       "      <th></th>\n",
       "      <th>Date</th>\n",
       "      <th>Year</th>\n",
       "      <th>Type</th>\n",
       "      <th>Country</th>\n",
       "      <th>Area</th>\n",
       "      <th>Location</th>\n",
       "      <th>Activity</th>\n",
       "      <th>Name</th>\n",
       "      <th>Sex</th>\n",
       "      <th>Age</th>\n",
       "      <th>Injury</th>\n",
       "      <th>Fatal (Y/N)</th>\n",
       "      <th>Time</th>\n",
       "      <th>Species</th>\n",
       "      <th>Investigator or Source</th>\n",
       "    </tr>\n",
       "  </thead>\n",
       "  <tbody>\n",
       "    <tr>\n",
       "      <th>0</th>\n",
       "      <td>25-Jun-2018</td>\n",
       "      <td>2018.0</td>\n",
       "      <td>Boating</td>\n",
       "      <td>USA</td>\n",
       "      <td>California</td>\n",
       "      <td>Oceanside, San Diego County</td>\n",
       "      <td>Paddling</td>\n",
       "      <td>Julie Wolfe</td>\n",
       "      <td>F</td>\n",
       "      <td>57</td>\n",
       "      <td>No injury to occupant, outrigger canoe and pad...</td>\n",
       "      <td>N</td>\n",
       "      <td>18h00</td>\n",
       "      <td>White shark</td>\n",
       "      <td>R. Collier, GSAF</td>\n",
       "    </tr>\n",
       "  </tbody>\n",
       "</table>\n",
       "</div>"
      ],
      "text/plain": [
       "          Date    Year     Type Country        Area  \\\n",
       "0  25-Jun-2018  2018.0  Boating     USA  California   \n",
       "\n",
       "                      Location  Activity         Name Sex  Age  \\\n",
       "0  Oceanside, San Diego County  Paddling  Julie Wolfe    F  57   \n",
       "\n",
       "                                              Injury Fatal (Y/N)   Time  \\\n",
       "0  No injury to occupant, outrigger canoe and pad...           N  18h00   \n",
       "\n",
       "      Species  Investigator or Source  \n",
       "0  White shark       R. Collier, GSAF  "
      ]
     },
     "execution_count": 544,
     "metadata": {},
     "output_type": "execute_result"
    }
   ],
   "source": [
    "# ELIMINANDO AS COLUNAS NULAS OU COM INFO REPETID\n",
    "df_notna = df.drop(columns=['Unnamed: 23',\n",
    "                            'Unnamed: 22',\n",
    "                            'Case Number',\n",
    "                            'Case Number.1',\n",
    "                            'Case Number.2',\n",
    "                            'href formula',\n",
    "                            'href',\n",
    "                            'pdf',\n",
    "                            'original order'])\n",
    "df_notna.head(1)"
   ]
  },
  {
   "cell_type": "markdown",
   "id": "2be13e23",
   "metadata": {},
   "source": [
    "##### Limpando linhas totalmente nulas"
   ]
  },
  {
   "cell_type": "code",
   "execution_count": 545,
   "id": "863e696f",
   "metadata": {
    "ExecuteTime": {
     "end_time": "2022-01-23T01:17:32.577598Z",
     "start_time": "2022-01-23T01:17:32.542595Z"
    }
   },
   "outputs": [
    {
     "name": "stdout",
     "output_type": "stream",
     "text": [
      "<class 'pandas.core.frame.DataFrame'>\n",
      "Int64Index: 6302 entries, 0 to 6301\n",
      "Data columns (total 15 columns):\n",
      " #   Column                  Non-Null Count  Dtype  \n",
      "---  ------                  --------------  -----  \n",
      " 0   Date                    6302 non-null   object \n",
      " 1   Year                    6300 non-null   float64\n",
      " 2   Type                    6298 non-null   object \n",
      " 3   Country                 6252 non-null   object \n",
      " 4   Area                    5847 non-null   object \n",
      " 5   Location                5762 non-null   object \n",
      " 6   Activity                5758 non-null   object \n",
      " 7   Name                    6092 non-null   object \n",
      " 8   Sex                     5737 non-null   object \n",
      " 9   Age                     3471 non-null   object \n",
      " 10  Injury                  6274 non-null   object \n",
      " 11  Fatal (Y/N)             5763 non-null   object \n",
      " 12  Time                    2948 non-null   object \n",
      " 13  Species                 3464 non-null   object \n",
      " 14  Investigator or Source  6285 non-null   object \n",
      "dtypes: float64(1), object(14)\n",
      "memory usage: 787.8+ KB\n"
     ]
    }
   ],
   "source": [
    "\n",
    "linenan = df_notna.loc[df_notna.isnull().all(axis=1)].index\n",
    "df_notna = df_notna.drop(index=linenan)\n",
    "df_notna.info()"
   ]
  },
  {
   "cell_type": "markdown",
   "id": "69b4ddbf",
   "metadata": {},
   "source": [
    "## FATAL? "
   ]
  },
  {
   "cell_type": "markdown",
   "id": "6f99e7a6",
   "metadata": {},
   "source": [
    "### Limpando a coluna 'Fatal (Y/N))'"
   ]
  },
  {
   "cell_type": "code",
   "execution_count": 546,
   "id": "dd4d2c78",
   "metadata": {
    "ExecuteTime": {
     "end_time": "2022-01-23T01:17:37.792538Z",
     "start_time": "2022-01-23T01:17:37.780603Z"
    }
   },
   "outputs": [],
   "source": [
    "#renomeando de  'Fatal (Y/N))' para 'Fatal'\n",
    "df_notna = df_notna.rename(columns = {'Fatal (Y/N)': 'Fatal'})"
   ]
  },
  {
   "cell_type": "code",
   "execution_count": 547,
   "id": "011e1113",
   "metadata": {
    "ExecuteTime": {
     "end_time": "2022-01-23T01:17:38.367371Z",
     "start_time": "2022-01-23T01:17:38.356890Z"
    }
   },
   "outputs": [
    {
     "data": {
      "text/plain": [
       "array(['N', 'Y', nan, 'M', 'UNKNOWN', '2017', ' N', 'N ', 'y'],\n",
       "      dtype=object)"
      ]
     },
     "execution_count": 547,
     "metadata": {},
     "output_type": "execute_result"
    }
   ],
   "source": [
    "#obtendo os valores da coluna para tratamento e padronizacao\n",
    "df_notna.loc[:,'Fatal'].unique()"
   ]
  },
  {
   "cell_type": "code",
   "execution_count": 548,
   "id": "1f7800f1",
   "metadata": {
    "ExecuteTime": {
     "end_time": "2022-01-23T01:17:41.165436Z",
     "start_time": "2022-01-23T01:17:41.155463Z"
    }
   },
   "outputs": [],
   "source": [
    "def limp_fatal(row):\n",
    "    '''recebe as linhas e baseada dos dados da colunas:\n",
    "                            Fatal e Injury, padroniza os dados com\n",
    "                                                            0; 1; np.nan\n",
    "                            se fatal = 0\n",
    "                            se nao fatal = 1\n",
    "                            sem o dado = np.nan\n",
    "    '''\n",
    "\n",
    "    if isinstance(row['Fatal'], float) or row['Fatal'] == 'UNKNOWN':\n",
    "        if row['Injury'] == 'NaN':\n",
    "            return np.nan\n",
    "        elif bool(re.search('fatal', row['Injury'].lower())):\n",
    "            return 1\n",
    "        else:\n",
    "            return 0\n",
    "    elif 'n' == row['Fatal'].lower().strip() or row['Fatal'] == '2017' or row['Fatal'] == 'M':\n",
    "        return 0\n",
    "    elif 'y' == row['Fatal'].lower().strip():\n",
    "        return 1"
   ]
  },
  {
   "cell_type": "markdown",
   "id": "94018934",
   "metadata": {},
   "source": [
    "###### A coluna 'Injury' contem dados ausentes da coluna 'Fatal'\n",
    "Padronizando os dados de 'Injury' para que nulos sejam strings"
   ]
  },
  {
   "cell_type": "code",
   "execution_count": 549,
   "id": "96381f0b",
   "metadata": {
    "ExecuteTime": {
     "end_time": "2022-01-23T01:17:42.019544Z",
     "start_time": "2022-01-23T01:17:42.000595Z"
    }
   },
   "outputs": [],
   "source": [
    "df_notna.loc[df_notna.loc[:, 'Injury'].isna(), 'Injury'] = 'NaN'"
   ]
  },
  {
   "cell_type": "markdown",
   "id": "76c9655d",
   "metadata": {},
   "source": [
    "##### rodando a funcao de limpesa de 'Fatal'\n",
    "limp_fatal()"
   ]
  },
  {
   "cell_type": "code",
   "execution_count": 552,
   "id": "46466df0",
   "metadata": {
    "ExecuteTime": {
     "end_time": "2022-01-23T01:22:31.444745Z",
     "start_time": "2022-01-23T01:22:31.347809Z"
    }
   },
   "outputs": [],
   "source": [
    "df_notna.loc[:, 'Fatal'] = df_notna.loc[:].apply(limp_fatal, axis=1)"
   ]
  },
  {
   "cell_type": "code",
   "execution_count": 553,
   "id": "b3974203",
   "metadata": {
    "ExecuteTime": {
     "end_time": "2022-01-23T01:24:20.093518Z",
     "start_time": "2022-01-23T01:24:20.083545Z"
    }
   },
   "outputs": [],
   "source": [
    "#serie fatal limpa\n",
    "ind_fatal = df_notna['Fatal']"
   ]
  },
  {
   "cell_type": "code",
   "execution_count": 562,
   "id": "165cfe67",
   "metadata": {
    "ExecuteTime": {
     "end_time": "2022-01-23T01:33:53.296229Z",
     "start_time": "2022-01-23T01:33:53.287252Z"
    }
   },
   "outputs": [
    {
     "data": {
      "text/plain": [
       "1.0"
      ]
     },
     "execution_count": 562,
     "metadata": {},
     "output_type": "execute_result"
    }
   ],
   "source": [
    "ind_fatal"
   ]
  }
 ],
 "metadata": {
  "kernelspec": {
   "display_name": "Python 3 (ipykernel)",
   "language": "python",
   "name": "python3"
  },
  "language_info": {
   "codemirror_mode": {
    "name": "ipython",
    "version": 3
   },
   "file_extension": ".py",
   "mimetype": "text/x-python",
   "name": "python",
   "nbconvert_exporter": "python",
   "pygments_lexer": "ipython3",
   "version": "3.9.7"
  },
  "toc": {
   "base_numbering": 1,
   "nav_menu": {},
   "number_sections": true,
   "sideBar": true,
   "skip_h1_title": false,
   "title_cell": "Table of Contents",
   "title_sidebar": "Contents",
   "toc_cell": false,
   "toc_position": {},
   "toc_section_display": true,
   "toc_window_display": false
  },
  "varInspector": {
   "cols": {
    "lenName": 16,
    "lenType": 16,
    "lenVar": 40
   },
   "kernels_config": {
    "python": {
     "delete_cmd_postfix": "",
     "delete_cmd_prefix": "del ",
     "library": "var_list.py",
     "varRefreshCmd": "print(var_dic_list())"
    },
    "r": {
     "delete_cmd_postfix": ") ",
     "delete_cmd_prefix": "rm(",
     "library": "var_list.r",
     "varRefreshCmd": "cat(var_dic_list()) "
    }
   },
   "types_to_exclude": [
    "module",
    "function",
    "builtin_function_or_method",
    "instance",
    "_Feature"
   ],
   "window_display": false
  }
 },
 "nbformat": 4,
 "nbformat_minor": 5
}
